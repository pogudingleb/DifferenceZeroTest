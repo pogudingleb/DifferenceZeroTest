{
 "cells": [
  {
   "cell_type": "code",
   "execution_count": 1,
   "metadata": {},
   "outputs": [
    {
     "name": "stdout",
     "output_type": "stream",
     "text": [
      "\n",
      "Welcome to Nemo version 0.18.2\n",
      "\n",
      "Nemo comes with absolutely no warranty whatsoever\n",
      "\n"
     ]
    }
   ],
   "source": [
    "# loading the code\n",
    "include(\"../src/DifferenceZeroTest.jl\")"
   ]
  },
  {
   "cell_type": "markdown",
   "metadata": {},
   "source": [
    "In this notebook, we will consider the following relation between the gamma function, Barnes G-function, and the log-gamma integral:\n",
    "\n",
    "$\\Lambda(n) := \\int\\limits_0^n \\ln\\Gamma(x) \\operatorname{dx} = \\frac{n(n - 1)}{2} + \\frac{n}{2} \\ln 2\\pi + n \\ln \\Gamma(n) - \\ln G(n + 1)$"
   ]
  },
  {
   "cell_type": "markdown",
   "metadata": {},
   "source": [
    "We will prove it by using the following difference equations satisfied by $\\ln \\Gamma(x)$, $\\ln G(x + 1)$, and $\\Lambda(n)$:\n",
    "* $\\ln \\Gamma(x + 1) = \\ln x + \\ln \\Gamma(x)$;\n",
    "* $\\ln G(x + 2) = \\ln \\Gamma(x + 1) + \\ln G(x + 1)$;\n",
    "* $\\Lambda(x + 1) = \\Lambda(x) + x \\ln x - x + \\Lambda(1)$, where $\\Lambda(1) = \\frac{1}{2}\\ln 2\\pi$\n",
    "and translating them to the equations for the asymptotic expansions at infinity."
   ]
  },
  {
   "cell_type": "markdown",
   "metadata": {},
   "source": [
    "First we adjoing the asymptotic series for the log-gamma function in the same way as in [this notebook](https://github.com/pogudingleb/DifferenceZeroTest/blob/main/examples/LegendreDuplication.ipynb):"
   ]
  },
  {
   "cell_type": "code",
   "execution_count": 2,
   "metadata": {},
   "outputs": [],
   "source": [
    "# define the shift\n",
    "X = IdentityPS{fmpq}(Nemo.QQ)\n",
    "S = X / (1 + X)\n",
    "\n",
    "# adjoining z\n",
    "polyring, (x0, x1, x2) = PolynomialRing(Nemo.QQ, [\"x0\", \"x1\", \"x2\"])\n",
    "z = AnnihilatorBasedPS{fmpq}(x1 * (1 + x0) - x0, S, [0, 1, 0, 0])\n",
    "D = construct_domain(z)\n",
    "z = gen(D)\n",
    "\n",
    "# adjoining log(1 + z)\n",
    "D = adjoin_transcendental(D, LogPS{fmpq}(Nemo.QQ))\n",
    "logz = gen(D)\n",
    "\n",
    "# adjoining the Stirling series S(z)\n",
    "polyring2, (x0, x1) = PolynomialRing(D, [\"x0\", \"x1\"])\n",
    "annihilator = z * (x1 - x0) - z + (1 + z) * logz - 1//2 * z * logz\n",
    "stirling = AnnihilatorBasedPS{fmpq}(annihilator, S, [0, 1//12, 0, -1//360, 0, 1//1260, 0])\n",
    "D = adjoin_sigma_algebraic(D, stirling)\n",
    "stirling = gen(D);"
   ]
  },
  {
   "cell_type": "markdown",
   "metadata": {},
   "source": [
    "Using the following asymptotic expansion \n",
    "\n",
    "$\\ln G(x + 1) \\sim \\frac{x^2}{2}\\ln x - \\frac{3x^2}{4} + \\frac{x}{2}\\ln 2\\pi - \\frac{1}{12}\\ln x + C + B\\left(\\frac{1}{x}\\right)$\n",
    "\n",
    "and combining it with the equation $\\ln G(x + 2) = \\ln \\Gamma(x + 1) + \\ln G(x + 1)$, we can adjoin the series $B(z)$ to our domain:"
   ]
  },
  {
   "cell_type": "code",
   "execution_count": 3,
   "metadata": {},
   "outputs": [],
   "source": [
    "polyring2, (x0, x1) = PolynomialRing(D, [\"x0\", \"x1\"])\n",
    "annihilator = z^2 * (x1 - x0 - stirling) + 1//2 * (1 + z)^2 * logz - 1//12 * z^2 * logz - 1//2 * z - 3//4 * z^2\n",
    "barnes = AnnihilatorBasedPS{fmpq}(annihilator, S, [0, 0, -1//(30 * 8), 0, 1//(42 * 24), 0])\n",
    "D = adjoin_sigma_algebraic(D, barnes)\n",
    "barnes = gen(D);"
   ]
  },
  {
   "cell_type": "markdown",
   "metadata": {},
   "source": [
    "Finally, we use the asymptotic expansion for $\\Lambda(x)$\n",
    "\n",
    "$\\Lambda(x) \\sim \\frac{x^2}{4} - \\frac{x}{2} + \\frac{x^2}{2}\\ln x - \\frac{1}{2}x\\ln x + \\frac{1}{12}\\ln x + C + L\\left(\\frac{1}{x} \\right)$\n",
    "\n",
    "and combine with $\\Lambda(x + 1) = \\Lambda(x) + x \\ln x - x + \\frac12 \\ln 2\\pi$ to adjoin the series $L(z)$ to our domain:"
   ]
  },
  {
   "cell_type": "code",
   "execution_count": 4,
   "metadata": {},
   "outputs": [],
   "source": [
    "polyring2, (x0, x1) = PolynomialRing(D, [\"x0\", \"x1\"])\n",
    "annihilator = z^2 * (x1 - x0) - 1//2 * z - 1//4 * z^2 + logz * (1//2 + 1//2 * z + 1//12 * z^2)\n",
    "loggammaint = AnnihilatorBasedPS{fmpq}(annihilator, S, [0, 0, 1//(6 * 120), 0, -1//5040])\n",
    "D = adjoin_sigma_algebraic(D, loggammaint)\n",
    "loggammaint = gen(D);"
   ]
  },
  {
   "cell_type": "markdown",
   "metadata": {},
   "source": [
    "In terms of the series $S(z), B(z), L(z)$, the identity of interest can be written as\n",
    "\n",
    "$L(z) = \\frac{1}{z}S(z) - B(z) - \\frac{1}{12}z$\n",
    "\n",
    "and verified using our algorithm:"
   ]
  },
  {
   "cell_type": "code",
   "execution_count": 5,
   "metadata": {},
   "outputs": [
    {
     "data": {
      "text/latex": [
       "true"
      ],
      "text/plain": [
       "true"
      ]
     },
     "execution_count": 5,
     "metadata": {},
     "output_type": "execute_result"
    }
   ],
   "source": [
    "identity = z * loggammaint + z * barnes - stirling + 1//12 * z\n",
    "iszero(identity)"
   ]
  }
 ],
 "metadata": {
  "kernelspec": {
   "display_name": "Julia 1.5.2",
   "language": "julia",
   "name": "julia-1.5"
  },
  "language_info": {
   "file_extension": ".jl",
   "mimetype": "application/julia",
   "name": "julia",
   "version": "1.5.2"
  }
 },
 "nbformat": 4,
 "nbformat_minor": 4
}
