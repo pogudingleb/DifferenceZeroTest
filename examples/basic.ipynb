{
 "cells": [
  {
   "cell_type": "code",
   "execution_count": 1,
   "metadata": {},
   "outputs": [
    {
     "name": "stdout",
     "output_type": "stream",
     "text": [
      "\n",
      "Welcome to Nemo version 0.18.2\n",
      "\n",
      "Nemo comes with absolutely no warranty whatsoever\n",
      "\n"
     ]
    }
   ],
   "source": [
    "# loading the code\n",
    "include(\"../src/DifferenceZeroTest.jl\")"
   ]
  },
  {
   "cell_type": "markdown",
   "metadata": {},
   "source": [
    "We create a computable power series of the form $z + \\mathcal{O}(z^2)$ to be the shift."
   ]
  },
  {
   "cell_type": "code",
   "execution_count": 3,
   "metadata": {},
   "outputs": [],
   "source": [
    "Z = IdentityPS{fmpq}(Nemo.QQ)\n",
    "S = Z / (1 - Z);"
   ]
  },
  {
   "cell_type": "markdown",
   "metadata": {},
   "source": [
    "Now we define $z$ as a solution of a $\\sigma$-difference equation"
   ]
  },
  {
   "cell_type": "code",
   "execution_count": 4,
   "metadata": {},
   "outputs": [],
   "source": [
    "polyring, (x0, x1) = PolynomialRing(Nemo.QQ, [\"x0\", \"x1\"])\n",
    "z = AnnihilatorBasedPS{fmpq}(\n",
    "    x1 * (1 - x0) - x0, # the equation \\sigma(z)(1 - z) - z = 0\n",
    "    S,                  # the shift\n",
    "    [0, 1, 0, 0]        # first terms\n",
    ")\n",
    "R = construct_domain(z)\n",
    "z = gen(R);"
   ]
  },
  {
   "cell_type": "markdown",
   "metadata": {},
   "source": [
    "One can see that $\\sigma^2(z) (1 - 2z) - z$ must vanish. Indeed:"
   ]
  },
  {
   "cell_type": "code",
   "execution_count": 5,
   "metadata": {},
   "outputs": [
    {
     "data": {
      "text/latex": [
       "true"
      ],
      "text/plain": [
       "true"
      ]
     },
     "execution_count": 5,
     "metadata": {},
     "output_type": "execute_result"
    }
   ],
   "source": [
    "iszero(sigma(z, 2) * (1 - 2 * z) - z)"
   ]
  },
  {
   "cell_type": "markdown",
   "metadata": {},
   "source": [
    "On the other hand, we could use this equation as the defining one:"
   ]
  },
  {
   "cell_type": "code",
   "execution_count": 6,
   "metadata": {},
   "outputs": [],
   "source": [
    "polyring, (x0, x1, x2) = PolynomialRing(Nemo.QQ, [\"x0\", \"x1\", \"x2\"])\n",
    "z = AnnihilatorBasedPS{fmpq}(\n",
    "    x2 * (1 - 2 * x0) - x0,\n",
    "    S,\n",
    "    [0, 1, 0, 0]\n",
    ")\n",
    "R = construct_domain(z)\n",
    "z = gen(R);"
   ]
  },
  {
   "cell_type": "code",
   "execution_count": 7,
   "metadata": {},
   "outputs": [
    {
     "data": {
      "text/latex": [
       "true"
      ],
      "text/plain": [
       "true"
      ]
     },
     "execution_count": 7,
     "metadata": {},
     "output_type": "execute_result"
    }
   ],
   "source": [
    "iszero(sigma(z) * (1 - z) - z)"
   ]
  },
  {
   "cell_type": "code",
   "execution_count": null,
   "metadata": {},
   "outputs": [],
   "source": []
  }
 ],
 "metadata": {
  "kernelspec": {
   "display_name": "Julia 1.5.2",
   "language": "julia",
   "name": "julia-1.5"
  },
  "language_info": {
   "file_extension": ".jl",
   "mimetype": "application/julia",
   "name": "julia",
   "version": "1.5.2"
  }
 },
 "nbformat": 4,
 "nbformat_minor": 4
}
